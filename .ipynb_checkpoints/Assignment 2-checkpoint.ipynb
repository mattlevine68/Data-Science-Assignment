{
 "cells": [
  {
   "cell_type": "markdown",
   "metadata": {},
   "source": [
    "Data Science Assignment 2 - Interacting with Spotify Data\n",
    "\n",
    "For this assignemnt where I will collecting data from Spotify API for track information which will then be written into a csv file to be analyzed and produce graphs. The following steps are required to produce these values.\n",
    "\n",
    "1. Import the TopSongs.csv (located in data/TopSongs.csv) into a Pandas DataFrame \n",
    "2. Create if not already created an account on Spotify Developers (https://developer.spotify.com/) and get client ID    and client secret\n",
    "3. Authorize spotify api with Spotipy a python library\n",
    "4. Get track info\n",
    "5. Write to new CSV TopSongsWithTrackInfo.csv"
   ]
  },
  {
   "cell_type": "code",
   "execution_count": null,
   "metadata": {},
   "outputs": [],
   "source": [
    "#Run if not downloaded already\n",
    "import sys\n",
    "!{sys.executable} -m pip install numpy\n",
    "!{sys.executable} -m pip install pandas\n",
    "!{sys.executable} -m pip install spotipy\n"
   ]
  },
  {
   "cell_type": "code",
   "execution_count": null,
   "metadata": {},
   "outputs": [],
   "source": [
    "import pandas as pd\n",
    "import numpy as np\n",
    "import spotipy\n",
    "import json\n",
    "from spotipy.oauth2 import SpotifyClientCredentials\n",
    "\n",
    "#Create DataFrame\n",
    "topSongDF = pd.read_csv('data/TopSongs.csv')\n",
    "topSongDF.head()"
   ]
  },
  {
   "cell_type": "code",
   "execution_count": null,
   "metadata": {},
   "outputs": [],
   "source": [
    "#Authorize spotify for use (use your own client id and secret)\n",
    "def authorizeSpotify():\n",
    "    auth_manager = SpotifyClientCredentials(client_id='', client_secret='')\n",
    "    sp = spotipy.Spotify(auth_manager=auth_manager)\n",
    "    return sp\n",
    "sp = authorizeSpotify()"
   ]
  },
  {
   "cell_type": "code",
   "execution_count": null,
   "metadata": {},
   "outputs": [],
   "source": [
    "#Create an ID column\n",
    "topSongDF['ID'] = topSongDF['URL']\n",
    "topSongDF.ID = topSongDF.ID.str[31:]\n",
    "topSongDF.head()"
   ]
  },
  {
   "cell_type": "code",
   "execution_count": null,
   "metadata": {},
   "outputs": [],
   "source": [
    "#Append data and metadata to lists and adds them to data frame\n",
    "\n",
    "songInfo = []\n",
    "tempo = []\n",
    "key = []\n",
    "duration = []\n",
    "loudness = []\n",
    "timeSignature = []\n",
    "numSamples = []\n",
    "for i in np.arange(len(topSongDF)):\n",
    "    songInfo.append((spAnalysis['track']['tempo'], spAnalysis['track']['key'], spAnalysis['track']['duration'],\n",
    "                     spAnalysis['track']['loudness'], spAnalysis['track']['time_signature'], spAnalysis['track']['num_samples']))\n",
    "    spAnalysis = sp.audio_analysis(topSongDF['ID'][i])\n",
    "    tempo.append(spAnalysis['track']['tempo'])\n",
    "    key.append(spAnalysis['track']['key'])\n",
    "    duration.append(spAnalysis['track']['duration'])\n",
    "    loudness.append(spAnalysis['track']['loudness'])\n",
    "    timeSignature.append(spAnalysis['track']['time_signature'])\n",
    "    numSamples.append(spAnalysis['track']['num_samples'])\n",
    "\n",
    "topSongDF['Tempo'] = songInfo\n",
    "topSongDF['Key']  = key\n",
    "topSongDF['Duration'] = duration\n",
    "topSongDF['Loudness'] = loudness\n",
    "topSongDF['Time Signature'] = timeSignature\n",
    "topSongDF['Number of Samples'] = numSamples\n",
    "\n",
    "topSongDF.head()\n",
    "    \n"
   ]
  },
  {
   "cell_type": "code",
   "execution_count": null,
   "metadata": {},
   "outputs": [],
   "source": [
    "#DF to CSV\n",
    "topSongDF.to_csv('data/TopSongsWithTrackInfo.csv', index=False)"
   ]
  },
  {
   "cell_type": "code",
   "execution_count": null,
   "metadata": {},
   "outputs": [],
   "source": []
  }
 ],
 "metadata": {
  "kernelspec": {
   "display_name": "Python 3",
   "language": "python",
   "name": "python3"
  },
  "language_info": {
   "codemirror_mode": {
    "name": "ipython",
    "version": 3
   },
   "file_extension": ".py",
   "mimetype": "text/x-python",
   "name": "python",
   "nbconvert_exporter": "python",
   "pygments_lexer": "ipython3",
   "version": "3.8.5"
  }
 },
 "nbformat": 4,
 "nbformat_minor": 4
}
